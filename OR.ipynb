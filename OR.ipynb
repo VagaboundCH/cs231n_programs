{
 "cells": [
  {
   "cell_type": "code",
   "execution_count": 5,
   "metadata": {},
   "outputs": [],
   "source": [
    "import numpy as np\n",
    "\n",
    "x = np.array([[0,1,0,1],\n",
    "              [0,0,1,1],\n",
    "              [1,1,1,1]])\n",
    "\n",
    "y = np.array([0,1,1,1])"
   ]
  },
  {
   "cell_type": "code",
   "execution_count": 6,
   "metadata": {},
   "outputs": [],
   "source": [
    "w0 = 2*np.random.random((4,3)) - 1\n",
    "w1 = 2*np.random.random((1,4)) - 1"
   ]
  },
  {
   "cell_type": "code",
   "execution_count": 8,
   "metadata": {},
   "outputs": [
    {
     "name": "stderr",
     "output_type": "stream",
     "text": [
      "C:\\Users\\User\\Anaconda3\\lib\\site-packages\\ipykernel_launcher.py:6: RuntimeWarning: overflow encountered in exp\n",
      "  \n"
     ]
    },
    {
     "name": "stdout",
     "output_type": "stream",
     "text": [
      "Error:0.5\n",
      "Error:0.5\n",
      "Error:0.5\n",
      "Error:0.5\n",
      "Error:0.5\n",
      "Error:0.5\n"
     ]
    }
   ],
   "source": [
    "num_epochs = 60000\n",
    "\n",
    "def omega(x,deriv=False):\n",
    "    if(deriv == True):\n",
    "        return x*(1-x)\n",
    "    return 1/(1+np.exp(-x))\n",
    "\n",
    "for i in range(num_epochs):\n",
    "    x0 = x\n",
    "    y0 = omega(np.dot(w0,x0))\n",
    "    x1 = y0\n",
    "    y1 = omega(np.dot(w1,x1))\n",
    "    \n",
    "    \n",
    "    \n",
    "    y1_error = y1 - y\n",
    "    y1_delta = y1_error*omega(w1,True)\n",
    "    \n",
    "    y0_error = np.dot(w1.T, y1_delta)  # Würde auch gehen\n",
    "    \n",
    "    #  y0_error = np.dot(y1_delta.T, w1)\n",
    "    y0_delta = y0_error*omega(y1_delta,True)\n",
    "    \n",
    "    if (i% 10000) == 0:\n",
    "        print(\"Error:\" + str(np.mean(np.abs(y1_error))))\n",
    "    \n",
    "    w1 -= np.dot(y1_delta, y0.T)\n",
    "    w0 -= np.dot(y0_delta, x0.T)\n",
    "    \n",
    "    \n",
    "    "
   ]
  },
  {
   "cell_type": "code",
   "execution_count": null,
   "metadata": {
    "collapsed": true
   },
   "outputs": [],
   "source": []
  }
 ],
 "metadata": {
  "anaconda-cloud": {},
  "kernelspec": {
   "display_name": "Python 3",
   "language": "python",
   "name": "python3"
  },
  "language_info": {
   "codemirror_mode": {
    "name": "ipython",
    "version": 3
   },
   "file_extension": ".py",
   "mimetype": "text/x-python",
   "name": "python",
   "nbconvert_exporter": "python",
   "pygments_lexer": "ipython3",
   "version": "3.6.4"
  }
 },
 "nbformat": 4,
 "nbformat_minor": 1
}

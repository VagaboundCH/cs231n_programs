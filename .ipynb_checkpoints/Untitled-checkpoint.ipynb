{
 "cells": [
  {
   "cell_type": "code",
   "execution_count": 53,
   "metadata": {},
   "outputs": [],
   "source": [
    "import numpy as np"
   ]
  },
  {
   "cell_type": "code",
   "execution_count": 54,
   "metadata": {},
   "outputs": [],
   "source": [
    "x = np.array([[56, 20],\n",
    "              [231, 3],\n",
    "              [24, 200],\n",
    "              [2, 50],\n",
    "              [1, 1]])\n",
    "W = np.array([[0.2, -0.5,0.1, 2, 1.1],\n",
    "              [1.5, 1.3, 2.1, 0, 3.2],\n",
    "              [0, 0.25, 0.2, -0.3, -1.2]])"
   ]
  },
  {
   "cell_type": "code",
   "execution_count": 55,
   "metadata": {},
   "outputs": [
    {
     "name": "stdout",
     "output_type": "stream",
     "text": [
      "[[-96.8  123.6 ]\n",
      " [437.9  457.1 ]\n",
      " [ 60.75  24.55]]\n"
     ]
    }
   ],
   "source": [
    "scores = np.dot(W,x)\n",
    "print(scores)"
   ]
  },
  {
   "cell_type": "code",
   "execution_count": 56,
   "metadata": {},
   "outputs": [],
   "source": [
    "y = np.array([[1, 0]])"
   ]
  },
  {
   "cell_type": "code",
   "execution_count": 57,
   "metadata": {},
   "outputs": [
    {
     "name": "stdout",
     "output_type": "stream",
     "text": [
      "[[-533.7     1.  ]\n",
      " [   1.    334.5 ]\n",
      " [-376.15  -98.05]]\n"
     ]
    }
   ],
   "source": [
    "print(scores - scores[y, np.arange(2)] + 1)"
   ]
  },
  {
   "cell_type": "code",
   "execution_count": 59,
   "metadata": {},
   "outputs": [
    {
     "name": "stdout",
     "output_type": "stream",
     "text": [
      "[[  0.    1. ]\n",
      " [  1.  334.5]\n",
      " [  0.    0. ]]\n"
     ]
    }
   ],
   "source": [
    "margins = np.maximum(0, scores - scores[y, np.arange(2)] + 1)\n",
    "print(margins)"
   ]
  },
  {
   "cell_type": "code",
   "execution_count": 60,
   "metadata": {},
   "outputs": [
    {
     "name": "stdout",
     "output_type": "stream",
     "text": [
      "[[  0.    0. ]\n",
      " [  0.  334.5]\n",
      " [  0.    0. ]]\n"
     ]
    }
   ],
   "source": [
    "margins[y, np.arange(2)] = 0\n",
    "print(margins)"
   ]
  },
  {
   "cell_type": "code",
   "execution_count": null,
   "metadata": {},
   "outputs": [],
   "source": []
  }
 ],
 "metadata": {
  "kernelspec": {
   "display_name": "Python 3",
   "language": "python",
   "name": "python3"
  },
  "language_info": {
   "codemirror_mode": {
    "name": "ipython",
    "version": 3
   },
   "file_extension": ".py",
   "mimetype": "text/x-python",
   "name": "python",
   "nbconvert_exporter": "python",
   "pygments_lexer": "ipython3",
   "version": "3.6.4"
  }
 },
 "nbformat": 4,
 "nbformat_minor": 2
}

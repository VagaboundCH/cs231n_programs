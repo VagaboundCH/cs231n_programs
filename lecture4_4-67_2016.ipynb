{
 "cells": [
  {
   "cell_type": "code",
   "execution_count": 2,
   "metadata": {},
   "outputs": [
    {
     "name": "stdout",
     "output_type": "stream",
     "text": [
      "Error:0.4995990021903489\n",
      "Error:0.010191056962826468\n",
      "Error:0.006764930547645726\n",
      "Error:0.005355295605155091\n",
      "Error:0.004546881627137216\n",
      "Error:0.004009159078336357\n"
     ]
    }
   ],
   "source": [
    "import numpy as np\n",
    "X = np.array([ [0,0,1],[0,1,1],[1,0,1],[1,1,1] ])\n",
    "y = np.array([[0,1,1,0]]).T\n",
    "syn0 = 2*np.random.random((3,4)) - 1\n",
    "syn1 = 2*np.random.random((4,1)) - 1\n",
    "for j in range(60000):\n",
    "    l1 = 1/(1+np.exp(-(np.dot(X,syn0))))\n",
    "    l2 = 1/(1+np.exp(-(np.dot(l1,syn1))))\n",
    "    l2_delta = (y - l2)*(l2*(1-l2))\n",
    "    l1_delta = l2_delta.dot(syn1.T) * (l1 * (1-l1))\n",
    "    syn1 += l1.T.dot(l2_delta)\n",
    "    syn0 += X.T.dot(l1_delta)\n",
    "    if (j% 10000) == 0:\n",
    "        print(\"Error:\" + str(np.mean(np.abs(y-l2))))"
   ]
  },
  {
   "cell_type": "code",
   "execution_count": 3,
   "metadata": {},
   "outputs": [
    {
     "name": "stdout",
     "output_type": "stream",
     "text": [
      "Error:0.4988940438548053\n",
      "Error:0.010277839021042342\n",
      "Error:0.007017165968734606\n",
      "Error:0.005640935369900393\n",
      "Error:0.004839143691605693\n",
      "Error:0.004299757900943438\n"
     ]
    }
   ],
   "source": [
    "X = np.array([ [0,0,1],[0,1,1],[1,0,1],[1,1,1] ])\n",
    "y = np.array([[0,1,1,0]]).T\n",
    "syn0 = 2*np.random.random((3,4)) - 1\n",
    "syn1 = 2*np.random.random((4,1)) - 1\n",
    "\n",
    "def sigma(x,deriv=False):\n",
    "    if(deriv == True):\n",
    "        return x*(1-x)\n",
    "    return    1/(1+np.exp(-x))\n",
    "\n",
    "for j in range(60000):\n",
    "    l1 = sigma(np.dot(X,syn0))\n",
    "    l2 = sigma(np.dot(l1,syn1))\n",
    "\n",
    "    l2_error = y - l2\n",
    "    l2_delta = l2_error * sigma(l2,True)\n",
    "\n",
    "    l1_error = np.dot(l2_delta, syn1.T)\n",
    "    l1_delta = l1_error * sigma(l1,True)\n",
    "\n",
    "    syn1 += np.dot(l1.T, l2_delta)\n",
    "    syn0 += np.dot(X.T, l1_delta)\n",
    "\n",
    "    if (j% 10000) == 0:\n",
    "        print(\"Error:\" + str(np.mean(np.abs(y-l2))))"
   ]
  },
  {
   "cell_type": "code",
   "execution_count": null,
   "metadata": {
    "collapsed": true
   },
   "outputs": [],
   "source": []
  }
 ],
 "metadata": {
  "anaconda-cloud": {},
  "kernelspec": {
   "display_name": "Python 3",
   "language": "python",
   "name": "python3"
  },
  "language_info": {
   "codemirror_mode": {
    "name": "ipython",
    "version": 3
   },
   "file_extension": ".py",
   "mimetype": "text/x-python",
   "name": "python",
   "nbconvert_exporter": "python",
   "pygments_lexer": "ipython3",
   "version": "3.6.4"
  }
 },
 "nbformat": 4,
 "nbformat_minor": 1
}
